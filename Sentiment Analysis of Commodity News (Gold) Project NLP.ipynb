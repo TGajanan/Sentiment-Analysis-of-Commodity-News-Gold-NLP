{
 "cells": [
  {
   "cell_type": "code",
   "execution_count": 1,
   "id": "4c8b2e8f",
   "metadata": {},
   "outputs": [],
   "source": [
    "import numpy as np\n",
    "import pandas as pd\n",
    "import matplotlib.pyplot as plt\n",
    "import seaborn as sns\n",
    "import re\n",
    "import string\n",
    "from sklearn.model_selection import train_test_split\n",
    "from sklearn.feature_extraction.text import TfidfVectorizer\n",
    "from sklearn.linear_model import LogisticRegression\n",
    "from sklearn.metrics import confusion_matrix\n",
    "from sklearn.metrics import accuracy_score\n",
    "from sklearn.feature_extraction.text import TfidfVectorizer\n",
    "from sklearn.svm import SVC\n",
    "import pickle \n"
   ]
  },
  {
   "cell_type": "code",
   "execution_count": 2,
   "id": "af113cae",
   "metadata": {},
   "outputs": [],
   "source": [
    "#reading the csv data\n",
    "df=pd.read_csv(\"gold-dataset-sinha-khandait1.csv\")"
   ]
  },
  {
   "cell_type": "code",
   "execution_count": 3,
   "id": "426ba852",
   "metadata": {
    "scrolled": true
   },
   "outputs": [
    {
     "data": {
      "text/html": [
       "<div>\n",
       "<style scoped>\n",
       "    .dataframe tbody tr th:only-of-type {\n",
       "        vertical-align: middle;\n",
       "    }\n",
       "\n",
       "    .dataframe tbody tr th {\n",
       "        vertical-align: top;\n",
       "    }\n",
       "\n",
       "    .dataframe thead th {\n",
       "        text-align: right;\n",
       "    }\n",
       "</style>\n",
       "<table border=\"1\" class=\"dataframe\">\n",
       "  <thead>\n",
       "    <tr style=\"text-align: right;\">\n",
       "      <th></th>\n",
       "      <th>Dates</th>\n",
       "      <th>URL</th>\n",
       "      <th>News</th>\n",
       "      <th>Price Direction Up</th>\n",
       "      <th>Price Direction Constant</th>\n",
       "      <th>Price Direction Down</th>\n",
       "      <th>Asset Comparision</th>\n",
       "      <th>Past Information</th>\n",
       "      <th>Future Information</th>\n",
       "      <th>Price Sentiment</th>\n",
       "    </tr>\n",
       "  </thead>\n",
       "  <tbody>\n",
       "    <tr>\n",
       "      <th>0</th>\n",
       "      <td>28-01-2016</td>\n",
       "      <td>http://www.marketwatch.com/story/april-gold-do...</td>\n",
       "      <td>april gold down 20 cents to settle at $1,116.1...</td>\n",
       "      <td>0</td>\n",
       "      <td>0</td>\n",
       "      <td>1</td>\n",
       "      <td>0</td>\n",
       "      <td>1</td>\n",
       "      <td>0</td>\n",
       "      <td>negative</td>\n",
       "    </tr>\n",
       "    <tr>\n",
       "      <th>1</th>\n",
       "      <td>13-09-2017</td>\n",
       "      <td>http://www.marketwatch.com/story/gold-prices-s...</td>\n",
       "      <td>gold suffers third straight daily decline</td>\n",
       "      <td>0</td>\n",
       "      <td>0</td>\n",
       "      <td>1</td>\n",
       "      <td>0</td>\n",
       "      <td>1</td>\n",
       "      <td>0</td>\n",
       "      <td>negative</td>\n",
       "    </tr>\n",
       "    <tr>\n",
       "      <th>2</th>\n",
       "      <td>26-07-2016</td>\n",
       "      <td>http://www.marketwatch.com/story/gold-futures-...</td>\n",
       "      <td>Gold futures edge up after two-session decline</td>\n",
       "      <td>1</td>\n",
       "      <td>0</td>\n",
       "      <td>0</td>\n",
       "      <td>0</td>\n",
       "      <td>1</td>\n",
       "      <td>0</td>\n",
       "      <td>positive</td>\n",
       "    </tr>\n",
       "    <tr>\n",
       "      <th>3</th>\n",
       "      <td>28-02-2018</td>\n",
       "      <td>https://www.metalsdaily.com/link/277199/dent-r...</td>\n",
       "      <td>dent research : is gold's day in the sun comin...</td>\n",
       "      <td>0</td>\n",
       "      <td>0</td>\n",
       "      <td>0</td>\n",
       "      <td>0</td>\n",
       "      <td>0</td>\n",
       "      <td>1</td>\n",
       "      <td>none</td>\n",
       "    </tr>\n",
       "    <tr>\n",
       "      <th>4</th>\n",
       "      <td>06-09-2017</td>\n",
       "      <td>http://www.marketwatch.com/story/gold-steadies...</td>\n",
       "      <td>Gold snaps three-day rally as Trump, lawmakers...</td>\n",
       "      <td>0</td>\n",
       "      <td>0</td>\n",
       "      <td>1</td>\n",
       "      <td>0</td>\n",
       "      <td>1</td>\n",
       "      <td>0</td>\n",
       "      <td>negative</td>\n",
       "    </tr>\n",
       "    <tr>\n",
       "      <th>...</th>\n",
       "      <td>...</td>\n",
       "      <td>...</td>\n",
       "      <td>...</td>\n",
       "      <td>...</td>\n",
       "      <td>...</td>\n",
       "      <td>...</td>\n",
       "      <td>...</td>\n",
       "      <td>...</td>\n",
       "      <td>...</td>\n",
       "      <td>...</td>\n",
       "    </tr>\n",
       "    <tr>\n",
       "      <th>10565</th>\n",
       "      <td>07-01-2013</td>\n",
       "      <td>https://www.moneycontrol.com/news/business/mar...</td>\n",
       "      <td>gold seen falling from 3-week high this week</td>\n",
       "      <td>0</td>\n",
       "      <td>0</td>\n",
       "      <td>1</td>\n",
       "      <td>0</td>\n",
       "      <td>1</td>\n",
       "      <td>0</td>\n",
       "      <td>negative</td>\n",
       "    </tr>\n",
       "    <tr>\n",
       "      <th>10566</th>\n",
       "      <td>27-09-2018</td>\n",
       "      <td>https://www.metalsdaily.com/link/284468/domini...</td>\n",
       "      <td>dominic frisby : now looks like a good time to...</td>\n",
       "      <td>1</td>\n",
       "      <td>0</td>\n",
       "      <td>0</td>\n",
       "      <td>0</td>\n",
       "      <td>0</td>\n",
       "      <td>1</td>\n",
       "      <td>positive</td>\n",
       "    </tr>\n",
       "    <tr>\n",
       "      <th>10567</th>\n",
       "      <td>03-03-2017</td>\n",
       "      <td>https://www.thehindubusinessline.com/markets/g...</td>\n",
       "      <td>Gold heading for worst week since November on ...</td>\n",
       "      <td>0</td>\n",
       "      <td>0</td>\n",
       "      <td>1</td>\n",
       "      <td>0</td>\n",
       "      <td>1</td>\n",
       "      <td>0</td>\n",
       "      <td>negative</td>\n",
       "    </tr>\n",
       "    <tr>\n",
       "      <th>10568</th>\n",
       "      <td>11-06-2008</td>\n",
       "      <td>http://www.marketwatch.com/story/august-gold-u...</td>\n",
       "      <td>august gold up $7.60 at $878.80 an ounce on nymex</td>\n",
       "      <td>1</td>\n",
       "      <td>0</td>\n",
       "      <td>0</td>\n",
       "      <td>0</td>\n",
       "      <td>1</td>\n",
       "      <td>0</td>\n",
       "      <td>positive</td>\n",
       "    </tr>\n",
       "    <tr>\n",
       "      <th>10569</th>\n",
       "      <td>01-10-2007</td>\n",
       "      <td>http://www.marketwatch.com/story/december-gold...</td>\n",
       "      <td>december gold down $1 at $749 an ounce on nymex</td>\n",
       "      <td>0</td>\n",
       "      <td>0</td>\n",
       "      <td>1</td>\n",
       "      <td>0</td>\n",
       "      <td>1</td>\n",
       "      <td>0</td>\n",
       "      <td>negative</td>\n",
       "    </tr>\n",
       "  </tbody>\n",
       "</table>\n",
       "<p>10570 rows × 10 columns</p>\n",
       "</div>"
      ],
      "text/plain": [
       "            Dates                                                URL  \\\n",
       "0      28-01-2016  http://www.marketwatch.com/story/april-gold-do...   \n",
       "1      13-09-2017  http://www.marketwatch.com/story/gold-prices-s...   \n",
       "2      26-07-2016  http://www.marketwatch.com/story/gold-futures-...   \n",
       "3      28-02-2018  https://www.metalsdaily.com/link/277199/dent-r...   \n",
       "4      06-09-2017  http://www.marketwatch.com/story/gold-steadies...   \n",
       "...           ...                                                ...   \n",
       "10565  07-01-2013  https://www.moneycontrol.com/news/business/mar...   \n",
       "10566  27-09-2018  https://www.metalsdaily.com/link/284468/domini...   \n",
       "10567  03-03-2017  https://www.thehindubusinessline.com/markets/g...   \n",
       "10568  11-06-2008  http://www.marketwatch.com/story/august-gold-u...   \n",
       "10569  01-10-2007  http://www.marketwatch.com/story/december-gold...   \n",
       "\n",
       "                                                    News  Price Direction Up  \\\n",
       "0      april gold down 20 cents to settle at $1,116.1...                   0   \n",
       "1              gold suffers third straight daily decline                   0   \n",
       "2         Gold futures edge up after two-session decline                   1   \n",
       "3      dent research : is gold's day in the sun comin...                   0   \n",
       "4      Gold snaps three-day rally as Trump, lawmakers...                   0   \n",
       "...                                                  ...                 ...   \n",
       "10565       gold seen falling from 3-week high this week                   0   \n",
       "10566  dominic frisby : now looks like a good time to...                   1   \n",
       "10567  Gold heading for worst week since November on ...                   0   \n",
       "10568  august gold up $7.60 at $878.80 an ounce on nymex                   1   \n",
       "10569    december gold down $1 at $749 an ounce on nymex                   0   \n",
       "\n",
       "       Price Direction Constant  Price Direction Down  Asset Comparision  \\\n",
       "0                             0                     1                  0   \n",
       "1                             0                     1                  0   \n",
       "2                             0                     0                  0   \n",
       "3                             0                     0                  0   \n",
       "4                             0                     1                  0   \n",
       "...                         ...                   ...                ...   \n",
       "10565                         0                     1                  0   \n",
       "10566                         0                     0                  0   \n",
       "10567                         0                     1                  0   \n",
       "10568                         0                     0                  0   \n",
       "10569                         0                     1                  0   \n",
       "\n",
       "       Past Information  Future Information Price Sentiment  \n",
       "0                     1                   0        negative  \n",
       "1                     1                   0        negative  \n",
       "2                     1                   0        positive  \n",
       "3                     0                   1            none  \n",
       "4                     1                   0        negative  \n",
       "...                 ...                 ...             ...  \n",
       "10565                 1                   0        negative  \n",
       "10566                 0                   1        positive  \n",
       "10567                 1                   0        negative  \n",
       "10568                 1                   0        positive  \n",
       "10569                 1                   0        negative  \n",
       "\n",
       "[10570 rows x 10 columns]"
      ]
     },
     "execution_count": 3,
     "metadata": {},
     "output_type": "execute_result"
    }
   ],
   "source": [
    "df"
   ]
  },
  {
   "cell_type": "code",
   "execution_count": 4,
   "id": "c668fdcb",
   "metadata": {},
   "outputs": [
    {
     "data": {
      "text/plain": [
       "Dates                       0\n",
       "URL                         0\n",
       "News                        0\n",
       "Price Direction Up          0\n",
       "Price Direction Constant    0\n",
       "Price Direction Down        0\n",
       "Asset Comparision           0\n",
       "Past Information            0\n",
       "Future Information          0\n",
       "Price Sentiment             0\n",
       "dtype: int64"
      ]
     },
     "execution_count": 4,
     "metadata": {},
     "output_type": "execute_result"
    }
   ],
   "source": [
    "df.isnull().sum()"
   ]
  },
  {
   "cell_type": "code",
   "execution_count": 5,
   "id": "00006e82",
   "metadata": {},
   "outputs": [],
   "source": [
    "#warnings :)\n",
    "import warnings\n",
    "warnings.filterwarnings('ignore')"
   ]
  },
  {
   "cell_type": "code",
   "execution_count": 6,
   "id": "d89a8485",
   "metadata": {},
   "outputs": [
    {
     "data": {
      "text/html": [
       "<div>\n",
       "<style scoped>\n",
       "    .dataframe tbody tr th:only-of-type {\n",
       "        vertical-align: middle;\n",
       "    }\n",
       "\n",
       "    .dataframe tbody tr th {\n",
       "        vertical-align: top;\n",
       "    }\n",
       "\n",
       "    .dataframe thead th {\n",
       "        text-align: right;\n",
       "    }\n",
       "</style>\n",
       "<table border=\"1\" class=\"dataframe\">\n",
       "  <thead>\n",
       "    <tr style=\"text-align: right;\">\n",
       "      <th></th>\n",
       "      <th>count</th>\n",
       "      <th>unique</th>\n",
       "      <th>top</th>\n",
       "      <th>freq</th>\n",
       "      <th>mean</th>\n",
       "      <th>std</th>\n",
       "      <th>min</th>\n",
       "      <th>25%</th>\n",
       "      <th>50%</th>\n",
       "      <th>75%</th>\n",
       "      <th>max</th>\n",
       "    </tr>\n",
       "  </thead>\n",
       "  <tbody>\n",
       "    <tr>\n",
       "      <th>Dates</th>\n",
       "      <td>10570</td>\n",
       "      <td>3761</td>\n",
       "      <td>30-08-2017</td>\n",
       "      <td>18</td>\n",
       "      <td>NaN</td>\n",
       "      <td>NaN</td>\n",
       "      <td>NaN</td>\n",
       "      <td>NaN</td>\n",
       "      <td>NaN</td>\n",
       "      <td>NaN</td>\n",
       "      <td>NaN</td>\n",
       "    </tr>\n",
       "    <tr>\n",
       "      <th>URL</th>\n",
       "      <td>10570</td>\n",
       "      <td>10570</td>\n",
       "      <td>http://www.marketwatch.com/story/april-gold-do...</td>\n",
       "      <td>1</td>\n",
       "      <td>NaN</td>\n",
       "      <td>NaN</td>\n",
       "      <td>NaN</td>\n",
       "      <td>NaN</td>\n",
       "      <td>NaN</td>\n",
       "      <td>NaN</td>\n",
       "      <td>NaN</td>\n",
       "    </tr>\n",
       "    <tr>\n",
       "      <th>News</th>\n",
       "      <td>10570</td>\n",
       "      <td>10570</td>\n",
       "      <td>april gold down 20 cents to settle at $1,116.1...</td>\n",
       "      <td>1</td>\n",
       "      <td>NaN</td>\n",
       "      <td>NaN</td>\n",
       "      <td>NaN</td>\n",
       "      <td>NaN</td>\n",
       "      <td>NaN</td>\n",
       "      <td>NaN</td>\n",
       "      <td>NaN</td>\n",
       "    </tr>\n",
       "    <tr>\n",
       "      <th>Price Direction Up</th>\n",
       "      <td>10570.0</td>\n",
       "      <td>NaN</td>\n",
       "      <td>NaN</td>\n",
       "      <td>NaN</td>\n",
       "      <td>0.417408</td>\n",
       "      <td>0.493155</td>\n",
       "      <td>0.0</td>\n",
       "      <td>0.0</td>\n",
       "      <td>0.0</td>\n",
       "      <td>1.0</td>\n",
       "      <td>1.0</td>\n",
       "    </tr>\n",
       "    <tr>\n",
       "      <th>Price Direction Constant</th>\n",
       "      <td>10570.0</td>\n",
       "      <td>NaN</td>\n",
       "      <td>NaN</td>\n",
       "      <td>NaN</td>\n",
       "      <td>0.042006</td>\n",
       "      <td>0.200612</td>\n",
       "      <td>0.0</td>\n",
       "      <td>0.0</td>\n",
       "      <td>0.0</td>\n",
       "      <td>0.0</td>\n",
       "      <td>1.0</td>\n",
       "    </tr>\n",
       "    <tr>\n",
       "      <th>Price Direction Down</th>\n",
       "      <td>10570.0</td>\n",
       "      <td>NaN</td>\n",
       "      <td>NaN</td>\n",
       "      <td>NaN</td>\n",
       "      <td>0.370104</td>\n",
       "      <td>0.482855</td>\n",
       "      <td>0.0</td>\n",
       "      <td>0.0</td>\n",
       "      <td>0.0</td>\n",
       "      <td>1.0</td>\n",
       "      <td>1.0</td>\n",
       "    </tr>\n",
       "    <tr>\n",
       "      <th>Asset Comparision</th>\n",
       "      <td>10570.0</td>\n",
       "      <td>NaN</td>\n",
       "      <td>NaN</td>\n",
       "      <td>NaN</td>\n",
       "      <td>0.189309</td>\n",
       "      <td>0.391773</td>\n",
       "      <td>0.0</td>\n",
       "      <td>0.0</td>\n",
       "      <td>0.0</td>\n",
       "      <td>0.0</td>\n",
       "      <td>1.0</td>\n",
       "    </tr>\n",
       "    <tr>\n",
       "      <th>Past Information</th>\n",
       "      <td>10570.0</td>\n",
       "      <td>NaN</td>\n",
       "      <td>NaN</td>\n",
       "      <td>NaN</td>\n",
       "      <td>0.969915</td>\n",
       "      <td>0.17083</td>\n",
       "      <td>0.0</td>\n",
       "      <td>1.0</td>\n",
       "      <td>1.0</td>\n",
       "      <td>1.0</td>\n",
       "      <td>1.0</td>\n",
       "    </tr>\n",
       "    <tr>\n",
       "      <th>Future Information</th>\n",
       "      <td>10570.0</td>\n",
       "      <td>NaN</td>\n",
       "      <td>NaN</td>\n",
       "      <td>NaN</td>\n",
       "      <td>0.03018</td>\n",
       "      <td>0.17109</td>\n",
       "      <td>0.0</td>\n",
       "      <td>0.0</td>\n",
       "      <td>0.0</td>\n",
       "      <td>0.0</td>\n",
       "      <td>1.0</td>\n",
       "    </tr>\n",
       "    <tr>\n",
       "      <th>Price Sentiment</th>\n",
       "      <td>10570</td>\n",
       "      <td>4</td>\n",
       "      <td>positive</td>\n",
       "      <td>4412</td>\n",
       "      <td>NaN</td>\n",
       "      <td>NaN</td>\n",
       "      <td>NaN</td>\n",
       "      <td>NaN</td>\n",
       "      <td>NaN</td>\n",
       "      <td>NaN</td>\n",
       "      <td>NaN</td>\n",
       "    </tr>\n",
       "  </tbody>\n",
       "</table>\n",
       "</div>"
      ],
      "text/plain": [
       "                            count unique  \\\n",
       "Dates                       10570   3761   \n",
       "URL                         10570  10570   \n",
       "News                        10570  10570   \n",
       "Price Direction Up        10570.0    NaN   \n",
       "Price Direction Constant  10570.0    NaN   \n",
       "Price Direction Down      10570.0    NaN   \n",
       "Asset Comparision         10570.0    NaN   \n",
       "Past Information          10570.0    NaN   \n",
       "Future Information        10570.0    NaN   \n",
       "Price Sentiment             10570      4   \n",
       "\n",
       "                                                                        top  \\\n",
       "Dates                                                            30-08-2017   \n",
       "URL                       http://www.marketwatch.com/story/april-gold-do...   \n",
       "News                      april gold down 20 cents to settle at $1,116.1...   \n",
       "Price Direction Up                                                      NaN   \n",
       "Price Direction Constant                                                NaN   \n",
       "Price Direction Down                                                    NaN   \n",
       "Asset Comparision                                                       NaN   \n",
       "Past Information                                                        NaN   \n",
       "Future Information                                                      NaN   \n",
       "Price Sentiment                                                    positive   \n",
       "\n",
       "                          freq      mean       std  min  25%  50%  75%  max  \n",
       "Dates                       18       NaN       NaN  NaN  NaN  NaN  NaN  NaN  \n",
       "URL                          1       NaN       NaN  NaN  NaN  NaN  NaN  NaN  \n",
       "News                         1       NaN       NaN  NaN  NaN  NaN  NaN  NaN  \n",
       "Price Direction Up         NaN  0.417408  0.493155  0.0  0.0  0.0  1.0  1.0  \n",
       "Price Direction Constant   NaN  0.042006  0.200612  0.0  0.0  0.0  0.0  1.0  \n",
       "Price Direction Down       NaN  0.370104  0.482855  0.0  0.0  0.0  1.0  1.0  \n",
       "Asset Comparision          NaN  0.189309  0.391773  0.0  0.0  0.0  0.0  1.0  \n",
       "Past Information           NaN  0.969915   0.17083  0.0  1.0  1.0  1.0  1.0  \n",
       "Future Information         NaN   0.03018   0.17109  0.0  0.0  0.0  0.0  1.0  \n",
       "Price Sentiment           4412       NaN       NaN  NaN  NaN  NaN  NaN  NaN  "
      ]
     },
     "execution_count": 6,
     "metadata": {},
     "output_type": "execute_result"
    }
   ],
   "source": [
    "#to describe the dataset\n",
    "df.describe(include='all').transpose()"
   ]
  },
  {
   "cell_type": "code",
   "execution_count": 7,
   "id": "2bdc19d0",
   "metadata": {},
   "outputs": [
    {
     "data": {
      "text/plain": [
       "positive    4412\n",
       "negative    3814\n",
       "none        1968\n",
       "neutral      376\n",
       "Name: Price Sentiment, dtype: int64"
      ]
     },
     "execution_count": 7,
     "metadata": {},
     "output_type": "execute_result"
    },
    {
     "data": {
      "image/png": "[encoded data removed]",
      "text/plain": [
       "<Figure size 720x360 with 1 Axes>"
      ]
     },
     "metadata": {
      "needs_background": "light"
     },
     "output_type": "display_data"
    }
   ],
   "source": [
    "plt.figure(figsize=(10,5))\n",
    "sns.countplot(df['Price Sentiment'])\n",
    "df['Price Sentiment'].value_counts()"
   ]
  },
  {
   "cell_type": "code",
   "execution_count": 8,
   "id": "03598802",
   "metadata": {},
   "outputs": [
    {
     "data": {
      "text/plain": [
       "<AxesSubplot:xlabel='Price Sentiment', ylabel='count'>"
      ]
     },
     "execution_count": 8,
     "metadata": {},
     "output_type": "execute_result"
    },
    {
     "data": {
      "image/png": "[encoded data removed]",
      "text/plain": [
       "<Figure size 720x360 with 2 Axes>"
      ]
     },
     "metadata": {
      "needs_background": "light"
     },
     "output_type": "display_data"
    }
   ],
   "source": [
    "#visualising two colunms againist each other\n",
    "plt.figure(figsize=(10,5))\n",
    "plt.subplot(131)\n",
    "sns.countplot(df['Price Sentiment'], hue=df['Price Direction Up'])\n",
    "plt.subplot(132)\n",
    "sns.countplot(df['Price Sentiment'], hue=df['Past Information'])\n",
    "#plt.show"
   ]
  },
  {
   "cell_type": "code",
   "execution_count": 9,
   "id": "dbbe12aa",
   "metadata": {},
   "outputs": [
    {
     "data": {
      "text/plain": [
       "<seaborn.axisgrid.PairGrid at 0x181010f87f0>"
      ]
     },
     "execution_count": 9,
     "metadata": {},
     "output_type": "execute_result"
    },
    {
     "data": {
      "image/png": "[encoded data removed]",
      "text/plain": [
       "<Figure size 1167.12x1080 with 42 Axes>"
      ]
     },
     "metadata": {
      "needs_background": "light"
     },
     "output_type": "display_data"
    }
   ],
   "source": [
    "sns.pairplot(df, hue='Price Sentiment')"
   ]
  },
  {
   "cell_type": "code",
   "execution_count": 10,
   "id": "0072a57d",
   "metadata": {
    "scrolled": true
   },
   "outputs": [
    {
     "data": {
      "text/plain": [
       "array(['negative', 'positive', 'none', 'neutral'], dtype=object)"
      ]
     },
     "execution_count": 10,
     "metadata": {},
     "output_type": "execute_result"
    }
   ],
   "source": [
    "df['Price Sentiment'].unique()\n"
   ]
  },
  {
   "cell_type": "code",
   "execution_count": 11,
   "id": "2cd50ab8",
   "metadata": {},
   "outputs": [
    {
     "data": {
      "text/plain": [
       "(10570, 10)"
      ]
     },
     "execution_count": 11,
     "metadata": {},
     "output_type": "execute_result"
    }
   ],
   "source": [
    "#drop rows with \"Price Sentiment\" as 'none'\n",
    "#df = df[df[\"Price Sentiment\"] != 'none']    \n",
    "df['Price Sentiment'].value_counts() \n",
    "df.shape"
   ]
  },
  {
   "cell_type": "code",
   "execution_count": 12,
   "id": "352c0303",
   "metadata": {},
   "outputs": [
    {
     "data": {
      "text/plain": [
       "Index(['Dates', 'URL', 'News', 'Price Direction Up',\n",
       "       'Price Direction Constant', 'Price Direction Down', 'Asset Comparision',\n",
       "       'Past Information', 'Future Information', 'Price Sentiment'],\n",
       "      dtype='object')"
      ]
     },
     "execution_count": 12,
     "metadata": {},
     "output_type": "execute_result"
    }
   ],
   "source": [
    "#to check the columns names\n",
    "df.columns"
   ]
  },
  {
   "cell_type": "code",
   "execution_count": 13,
   "id": "75740b05",
   "metadata": {},
   "outputs": [],
   "source": [
    "#Removing columns\n",
    "df.drop(columns = ['Dates', 'URL', 'Price Direction Up','Price Direction Constant','Price Direction Down','Asset Comparision','Past Information','Future Information'], inplace = True)"
   ]
  },
  {
   "cell_type": "code",
   "execution_count": 14,
   "id": "fd5d7bfd",
   "metadata": {
    "scrolled": true
   },
   "outputs": [
    {
     "data": {
      "text/html": [
       "<div>\n",
       "<style scoped>\n",
       "    .dataframe tbody tr th:only-of-type {\n",
       "        vertical-align: middle;\n",
       "    }\n",
       "\n",
       "    .dataframe tbody tr th {\n",
       "        vertical-align: top;\n",
       "    }\n",
       "\n",
       "    .dataframe thead th {\n",
       "        text-align: right;\n",
       "    }\n",
       "</style>\n",
       "<table border=\"1\" class=\"dataframe\">\n",
       "  <thead>\n",
       "    <tr style=\"text-align: right;\">\n",
       "      <th></th>\n",
       "      <th>News</th>\n",
       "      <th>Price Sentiment</th>\n",
       "    </tr>\n",
       "  </thead>\n",
       "  <tbody>\n",
       "    <tr>\n",
       "      <th>0</th>\n",
       "      <td>april gold down 20 cents to settle at $1,116.1...</td>\n",
       "      <td>negative</td>\n",
       "    </tr>\n",
       "    <tr>\n",
       "      <th>1</th>\n",
       "      <td>gold suffers third straight daily decline</td>\n",
       "      <td>negative</td>\n",
       "    </tr>\n",
       "    <tr>\n",
       "      <th>2</th>\n",
       "      <td>Gold futures edge up after two-session decline</td>\n",
       "      <td>positive</td>\n",
       "    </tr>\n",
       "    <tr>\n",
       "      <th>3</th>\n",
       "      <td>dent research : is gold's day in the sun comin...</td>\n",
       "      <td>none</td>\n",
       "    </tr>\n",
       "    <tr>\n",
       "      <th>4</th>\n",
       "      <td>Gold snaps three-day rally as Trump, lawmakers...</td>\n",
       "      <td>negative</td>\n",
       "    </tr>\n",
       "    <tr>\n",
       "      <th>...</th>\n",
       "      <td>...</td>\n",
       "      <td>...</td>\n",
       "    </tr>\n",
       "    <tr>\n",
       "      <th>10565</th>\n",
       "      <td>gold seen falling from 3-week high this week</td>\n",
       "      <td>negative</td>\n",
       "    </tr>\n",
       "    <tr>\n",
       "      <th>10566</th>\n",
       "      <td>dominic frisby : now looks like a good time to...</td>\n",
       "      <td>positive</td>\n",
       "    </tr>\n",
       "    <tr>\n",
       "      <th>10567</th>\n",
       "      <td>Gold heading for worst week since November on ...</td>\n",
       "      <td>negative</td>\n",
       "    </tr>\n",
       "    <tr>\n",
       "      <th>10568</th>\n",
       "      <td>august gold up $7.60 at $878.80 an ounce on nymex</td>\n",
       "      <td>positive</td>\n",
       "    </tr>\n",
       "    <tr>\n",
       "      <th>10569</th>\n",
       "      <td>december gold down $1 at $749 an ounce on nymex</td>\n",
       "      <td>negative</td>\n",
       "    </tr>\n",
       "  </tbody>\n",
       "</table>\n",
       "<p>10570 rows × 2 columns</p>\n",
       "</div>"
      ],
      "text/plain": [
       "                                                    News Price Sentiment\n",
       "0      april gold down 20 cents to settle at $1,116.1...        negative\n",
       "1              gold suffers third straight daily decline        negative\n",
       "2         Gold futures edge up after two-session decline        positive\n",
       "3      dent research : is gold's day in the sun comin...            none\n",
       "4      Gold snaps three-day rally as Trump, lawmakers...        negative\n",
       "...                                                  ...             ...\n",
       "10565       gold seen falling from 3-week high this week        negative\n",
       "10566  dominic frisby : now looks like a good time to...        positive\n",
       "10567  Gold heading for worst week since November on ...        negative\n",
       "10568  august gold up $7.60 at $878.80 an ounce on nymex        positive\n",
       "10569    december gold down $1 at $749 an ounce on nymex        negative\n",
       "\n",
       "[10570 rows x 2 columns]"
      ]
     },
     "execution_count": 14,
     "metadata": {},
     "output_type": "execute_result"
    }
   ],
   "source": [
    "df"
   ]
  },
  {
   "cell_type": "code",
   "execution_count": 15,
   "id": "1887e4cd",
   "metadata": {},
   "outputs": [],
   "source": [
    "#Applying the text cleaning\n",
    "import re\n",
    "import string\n",
    "\n",
    "#This function converts to lower-case, removes square bracket, removes numbers and punctuation\n",
    "def text_clean_1(text):\n",
    "    text = text.lower()      #This line converts all characters in the text to lower case.\n",
    "    text = re.sub('\\[.*?\\]', '', text)  #This line removes all square bracketed expressions and their contents from the text.\n",
    "    text = re.sub('[%s]' % re.escape(string.punctuation), '', text)  # This line removes all punctuation characters from the text. The string.punctuation variable contains all punctuation characters. \n",
    "    text = re.sub('\\w*\\d\\w*', '', text) #This line removes all alphanumeric characters that contain digits from the text.\n",
    "    text = re.sub('[‘’“”…]', '', text)  #This line removes all curly and ellipsis characters from the text.\n",
    "    text = re.sub('\\n', '', text)  #This line removes all newline characters from the text.\n",
    "    return text\n",
    "\t\n",
    "\n",
    "Cleaned_News = lambda x: text_clean_1(x)"
   ]
  },
  {
   "cell_type": "code",
   "execution_count": 16,
   "id": "db56efee",
   "metadata": {
    "scrolled": true
   },
   "outputs": [
    {
     "data": {
      "text/html": [
       "<div>\n",
       "<style scoped>\n",
       "    .dataframe tbody tr th:only-of-type {\n",
       "        vertical-align: middle;\n",
       "    }\n",
       "\n",
       "    .dataframe tbody tr th {\n",
       "        vertical-align: top;\n",
       "    }\n",
       "\n",
       "    .dataframe thead th {\n",
       "        text-align: right;\n",
       "    }\n",
       "</style>\n",
       "<table border=\"1\" class=\"dataframe\">\n",
       "  <thead>\n",
       "    <tr style=\"text-align: right;\">\n",
       "      <th></th>\n",
       "      <th>News</th>\n",
       "      <th>Price Sentiment</th>\n",
       "      <th>Cleaned_News</th>\n",
       "    </tr>\n",
       "  </thead>\n",
       "  <tbody>\n",
       "    <tr>\n",
       "      <th>0</th>\n",
       "      <td>april gold down 20 cents to settle at $1,116.1...</td>\n",
       "      <td>negative</td>\n",
       "      <td>april gold down  cents to settle at</td>\n",
       "    </tr>\n",
       "    <tr>\n",
       "      <th>1</th>\n",
       "      <td>gold suffers third straight daily decline</td>\n",
       "      <td>negative</td>\n",
       "      <td>gold suffers third straight daily decline</td>\n",
       "    </tr>\n",
       "    <tr>\n",
       "      <th>2</th>\n",
       "      <td>Gold futures edge up after two-session decline</td>\n",
       "      <td>positive</td>\n",
       "      <td>gold futures edge up after twosession decline</td>\n",
       "    </tr>\n",
       "    <tr>\n",
       "      <th>3</th>\n",
       "      <td>dent research : is gold's day in the sun comin...</td>\n",
       "      <td>none</td>\n",
       "      <td>dent research  is golds day in the sun coming ...</td>\n",
       "    </tr>\n",
       "    <tr>\n",
       "      <th>4</th>\n",
       "      <td>Gold snaps three-day rally as Trump, lawmakers...</td>\n",
       "      <td>negative</td>\n",
       "      <td>gold snaps threeday rally as trump lawmakers r...</td>\n",
       "    </tr>\n",
       "    <tr>\n",
       "      <th>5</th>\n",
       "      <td>Dec. gold climbs $9.40, or 0.7%, to settle at ...</td>\n",
       "      <td>positive</td>\n",
       "      <td>dec gold climbs  or  to settle at</td>\n",
       "    </tr>\n",
       "    <tr>\n",
       "      <th>6</th>\n",
       "      <td>gold falls by rs 25 on sluggish demand, global...</td>\n",
       "      <td>negative</td>\n",
       "      <td>gold falls by rs  on sluggish demand global cues</td>\n",
       "    </tr>\n",
       "    <tr>\n",
       "      <th>7</th>\n",
       "      <td>Gold futures fall for the session, but gain fo...</td>\n",
       "      <td>positive</td>\n",
       "      <td>gold futures fall for the session but gain for...</td>\n",
       "    </tr>\n",
       "    <tr>\n",
       "      <th>8</th>\n",
       "      <td>Gold struggles; silver slides, base metals falter</td>\n",
       "      <td>neutral</td>\n",
       "      <td>gold struggles silver slides base metals falter</td>\n",
       "    </tr>\n",
       "    <tr>\n",
       "      <th>9</th>\n",
       "      <td>april gold holds slight gain, up $2.50, or 0.2...</td>\n",
       "      <td>positive</td>\n",
       "      <td>april gold holds slight gain up  or  at</td>\n",
       "    </tr>\n",
       "  </tbody>\n",
       "</table>\n",
       "</div>"
      ],
      "text/plain": [
       "                                                News Price Sentiment  \\\n",
       "0  april gold down 20 cents to settle at $1,116.1...        negative   \n",
       "1          gold suffers third straight daily decline        negative   \n",
       "2     Gold futures edge up after two-session decline        positive   \n",
       "3  dent research : is gold's day in the sun comin...            none   \n",
       "4  Gold snaps three-day rally as Trump, lawmakers...        negative   \n",
       "5  Dec. gold climbs $9.40, or 0.7%, to settle at ...        positive   \n",
       "6  gold falls by rs 25 on sluggish demand, global...        negative   \n",
       "7  Gold futures fall for the session, but gain fo...        positive   \n",
       "8  Gold struggles; silver slides, base metals falter         neutral   \n",
       "9  april gold holds slight gain, up $2.50, or 0.2...        positive   \n",
       "\n",
       "                                        Cleaned_News  \n",
       "0               april gold down  cents to settle at   \n",
       "1          gold suffers third straight daily decline  \n",
       "2      gold futures edge up after twosession decline  \n",
       "3  dent research  is golds day in the sun coming ...  \n",
       "4  gold snaps threeday rally as trump lawmakers r...  \n",
       "5                 dec gold climbs  or  to settle at   \n",
       "6   gold falls by rs  on sluggish demand global cues  \n",
       "7  gold futures fall for the session but gain for...  \n",
       "8    gold struggles silver slides base metals falter  \n",
       "9           april gold holds slight gain up  or  at   "
      ]
     },
     "execution_count": 16,
     "metadata": {},
     "output_type": "execute_result"
    }
   ],
   "source": [
    "#the updated text here\n",
    "df['Cleaned_News'] = pd.DataFrame(df.News.apply(Cleaned_News))\n",
    "df.head(10)"
   ]
  },
  {
   "cell_type": "markdown",
   "id": "d8ead538",
   "metadata": {},
   "source": [
    "# Model Training "
   ]
  },
  {
   "cell_type": "code",
   "execution_count": 17,
   "id": "5a8d2a03",
   "metadata": {},
   "outputs": [
    {
     "data": {
      "text/plain": [
       "0                 april gold down  cents to settle at \n",
       "1            gold suffers third straight daily decline\n",
       "2        gold futures edge up after twosession decline\n",
       "3    dent research  is golds day in the sun coming ...\n",
       "4    gold snaps threeday rally as trump lawmakers r...\n",
       "5                   dec gold climbs  or  to settle at \n",
       "6     gold falls by rs  on sluggish demand global cues\n",
       "7    gold futures fall for the session but gain for...\n",
       "8      gold struggles silver slides base metals falter\n",
       "9             april gold holds slight gain up  or  at \n",
       "Name: Cleaned_News, dtype: object"
      ]
     },
     "execution_count": 17,
     "metadata": {},
     "output_type": "execute_result"
    }
   ],
   "source": [
    "#independent varible\n",
    "x=df['Cleaned_News']\n",
    "x.head(10)"
   ]
  },
  {
   "cell_type": "code",
   "execution_count": 18,
   "id": "6a6cb3f6",
   "metadata": {},
   "outputs": [
    {
     "data": {
      "text/plain": [
       "0    negative\n",
       "1    negative\n",
       "2    positive\n",
       "3        none\n",
       "4    negative\n",
       "5    positive\n",
       "6    negative\n",
       "7    positive\n",
       "8     neutral\n",
       "9    positive\n",
       "Name: Price Sentiment, dtype: object"
      ]
     },
     "execution_count": 18,
     "metadata": {},
     "output_type": "execute_result"
    }
   ],
   "source": [
    "#dependent varible\n",
    "y=df['Price Sentiment']\n",
    "y.head(10)"
   ]
  },
  {
   "cell_type": "code",
   "execution_count": 19,
   "id": "aa909cdd",
   "metadata": {},
   "outputs": [
    {
     "name": "stdout",
     "output_type": "stream",
     "text": [
      "x_train: 8456\n",
      "x_test: 2114\n",
      "y_train: 8456\n",
      "y_test: 2114\n"
     ]
    }
   ],
   "source": [
    "#with using of Scikit-learn (sklearn) library to split a dataset into training and testing sets\n",
    "from sklearn.model_selection import train_test_split\n",
    "x_train,x_test,y_train,y_test=train_test_split(x,y,test_size=0.2, random_state=0)\n",
    "\n",
    "print(\"x_train:\",len(x_train))\n",
    "print(\"x_test:\",len(x_test))\n",
    "print(\"y_train:\",len(y_train))\n",
    "print(\"y_test:\",len(y_test))"
   ]
  },
  {
   "cell_type": "code",
   "execution_count": 20,
   "id": "c359af36",
   "metadata": {},
   "outputs": [
    {
     "data": {
      "text/plain": [
       "4004    gold falls with equities as euro zone talks stuck\n",
       "2588                   gold silver slip on profit booking\n",
       "8936    gold marks  session loss palladium ends at low...\n",
       "2569                     dec gold up  cents at  on globex\n",
       "8732         gold posts gains as floor trading winds down\n",
       "                              ...                        \n",
       "4598              gold falls as much as  in morning trade\n",
       "5906    gold continues to slide on weak demand silver ...\n",
       "3774                 december gold down  or  at  an ounce\n",
       "8528                    dec gold climbs to a  high above \n",
       "2400     gold falls in early trade rs  key level to watch\n",
       "Name: Cleaned_News, Length: 2114, dtype: object"
      ]
     },
     "execution_count": 20,
     "metadata": {},
     "output_type": "execute_result"
    }
   ],
   "source": [
    "x_test"
   ]
  },
  {
   "cell_type": "markdown",
   "id": "a01157a3",
   "metadata": {},
   "source": [
    "# Model building with Logistic Regression"
   ]
  },
  {
   "cell_type": "code",
   "execution_count": 21,
   "id": "b2c7acbf",
   "metadata": {},
   "outputs": [],
   "source": [
    "from sklearn.feature_extraction.text import TfidfVectorizer\n",
    "from sklearn.linear_model import LogisticRegression\n",
    "tvec = TfidfVectorizer()\n",
    "clf2 = LogisticRegression()\n"
   ]
  },
  {
   "cell_type": "code",
   "execution_count": 22,
   "id": "34e2429b",
   "metadata": {},
   "outputs": [
    {
     "data": {
      "text/plain": [
       "array([[701,  15,  26,  29],\n",
       "       [  1,  50,   1,   2],\n",
       "       [ 31,   9, 330,  48],\n",
       "       [ 36,  15,  34, 786]], dtype=int64)"
      ]
     },
     "execution_count": 22,
     "metadata": {},
     "output_type": "execute_result"
    }
   ],
   "source": [
    "#Create a pipeline with two steps:Tf-idf and SVM model\n",
    "from sklearn.pipeline import Pipeline\n",
    "model = Pipeline([('vectorizer',tvec),('classifier',clf2)])\n",
    "model.fit(x_train,y_train)\n",
    "from sklearn.metrics import confusion_matrix\n",
    "predictions = model.predict(x_test)\n",
    "pred_train=model.predict(x_train)\n",
    "confusion_matrix(predictions, y_test)"
   ]
  },
  {
   "cell_type": "code",
   "execution_count": 23,
   "id": "d15a5d5a",
   "metadata": {
    "scrolled": true
   },
   "outputs": [
    {
     "name": "stdout",
     "output_type": "stream",
     "text": [
      "              precision    recall  f1-score   support\n",
      "\n",
      "    negative       0.91      0.91      0.91       769\n",
      "     neutral       0.93      0.56      0.70        89\n",
      "        none       0.79      0.84      0.82       391\n",
      "    positive       0.90      0.91      0.91       865\n",
      "\n",
      "    accuracy                           0.88      2114\n",
      "   macro avg       0.88      0.81      0.83      2114\n",
      "weighted avg       0.88      0.88      0.88      2114\n",
      "\n"
     ]
    }
   ],
   "source": [
    "#for Logistic Regression\n",
    "from sklearn.metrics import classification_report\n",
    "# assume y_train and pred_train are your true and predicted labels, respectively\n",
    "print(classification_report(y_test, predictions))"
   ]
  },
  {
   "cell_type": "code",
   "execution_count": null,
   "id": "2d9be5c1",
   "metadata": {},
   "outputs": [],
   "source": []
  },
  {
   "cell_type": "markdown",
   "id": "acca4920",
   "metadata": {},
   "source": [
    "# Model building with SVM"
   ]
  },
  {
   "cell_type": "code",
   "execution_count": 24,
   "id": "9c137f39",
   "metadata": {},
   "outputs": [],
   "source": [
    "#from sklearn.feature_extraction.text import TfidfVectorizer\n",
    "from sklearn.svm import SVC\n",
    "svm=SVC(kernel='linear')\n",
    "#tvec = TfidfVectorizer()\n"
   ]
  },
  {
   "cell_type": "code",
   "execution_count": 25,
   "id": "0f11b4a2",
   "metadata": {},
   "outputs": [
    {
     "data": {
      "text/plain": [
       "array([[694,   8,  23,  32],\n",
       "       [  4,  57,   2,   7],\n",
       "       [ 32,  11, 331,  45],\n",
       "       [ 39,  13,  35, 781]], dtype=int64)"
      ]
     },
     "execution_count": 25,
     "metadata": {},
     "output_type": "execute_result"
    }
   ],
   "source": [
    "#from sklearn.pipeline import Pipeline \n",
    "#pipeline:- The Pipeline class is a utility class in sklearn that helps to chain multiple steps of data preprocessing and model building into a single object\n",
    "model2 = Pipeline([('vectorizer',tvec),('classifier',svm)])\n",
    "model2.fit(x_train,y_train)\n",
    "from sklearn.metrics import confusion_matrix\n",
    "predictions2 = model2.predict(x_test)\n",
    "pred2_train=model2.predict(x_train)\n",
    "confusion_matrix(predictions2, y_test)\n"
   ]
  },
  {
   "cell_type": "code",
   "execution_count": 26,
   "id": "6dec8071",
   "metadata": {},
   "outputs": [
    {
     "name": "stdout",
     "output_type": "stream",
     "text": [
      "              precision    recall  f1-score   support\n",
      "\n",
      "    negative       0.92      0.90      0.91       769\n",
      "     neutral       0.81      0.64      0.72        89\n",
      "        none       0.79      0.85      0.82       391\n",
      "    positive       0.90      0.90      0.90       865\n",
      "\n",
      "    accuracy                           0.88      2114\n",
      "   macro avg       0.86      0.82      0.84      2114\n",
      "weighted avg       0.88      0.88      0.88      2114\n",
      "\n"
     ]
    }
   ],
   "source": [
    "#for SVM\n",
    "from sklearn.metrics import classification_report\n",
    "# assume y_train and pred2_train are your true and predicted labels, respectively\n",
    "print(classification_report(y_test, predictions2))"
   ]
  },
  {
   "cell_type": "markdown",
   "id": "299e7929",
   "metadata": {},
   "source": [
    "# Model prediciton "
   ]
  },
  {
   "cell_type": "code",
   "execution_count": 27,
   "id": "556a4f0a",
   "metadata": {
    "scrolled": false
   },
   "outputs": [
    {
     "name": "stdout",
     "output_type": "stream",
     "text": [
      "Accuracy_test :  0.8831598864711447\n",
      "Accuracy_train :  0.9331835383159887\n"
     ]
    }
   ],
   "source": [
    "#Logistic Regression\n",
    "from sklearn.metrics import accuracy_score\n",
    "print(\"Accuracy_test : \", accuracy_score(predictions, y_test))\n",
    "print(\"Accuracy_train : \", accuracy_score(pred_train, y_train))\n"
   ]
  },
  {
   "cell_type": "code",
   "execution_count": 28,
   "id": "b68d3fba",
   "metadata": {
    "scrolled": true
   },
   "outputs": [
    {
     "name": "stdout",
     "output_type": "stream",
     "text": [
      "Accuracy_test:  0.881267738883633\n",
      "Accuracy_train :  0.9427625354777672\n"
     ]
    }
   ],
   "source": [
    "#SVM\n",
    "#from sklearn.metrics import accuracy_score\n",
    "print(\"Accuracy_test: \", accuracy_score(predictions2, y_test))\n",
    "print(\"Accuracy_train : \", accuracy_score(pred2_train, y_train))\n"
   ]
  },
  {
   "cell_type": "code",
   "execution_count": null,
   "id": "0d34001f",
   "metadata": {},
   "outputs": [],
   "source": []
  },
  {
   "cell_type": "markdown",
   "id": "3f0149d2",
   "metadata": {},
   "source": [
    "# Trying on new news headlines "
   ]
  },
  {
   "cell_type": "code",
   "execution_count": 29,
   "id": "f4140eb3",
   "metadata": {},
   "outputs": [
    {
     "name": "stdout",
     "output_type": "stream",
     "text": [
      "['neutral']\n"
     ]
    }
   ],
   "source": [
    "example = [\"gold to trade in 28670-29160 range: achiievers equities\"]\n",
    "result = model.predict(example)\n",
    "print(result)"
   ]
  },
  {
   "cell_type": "code",
   "execution_count": 30,
   "id": "cea0fdf8",
   "metadata": {},
   "outputs": [
    {
     "name": "stdout",
     "output_type": "stream",
     "text": [
      "['neutral']\n"
     ]
    }
   ],
   "source": [
    "example = [\"gold to trade in 28670-29160 range: achiievers equities\"]\n",
    "result = model2.predict(example)\n",
    "print(result)"
   ]
  },
  {
   "cell_type": "code",
   "execution_count": 31,
   "id": "993ed0c0",
   "metadata": {},
   "outputs": [
    {
     "name": "stdout",
     "output_type": "stream",
     "text": [
      "['none']\n"
     ]
    }
   ],
   "source": [
    "example = [\"can investment in gold, sensex & ppfs give the same returns?\"]\n",
    "result = model.predict(example)\n",
    "print(result)"
   ]
  },
  {
   "cell_type": "code",
   "execution_count": 32,
   "id": "d9cab20e",
   "metadata": {},
   "outputs": [
    {
     "name": "stdout",
     "output_type": "stream",
     "text": [
      "['none']\n"
     ]
    }
   ],
   "source": [
    "example = [\"can investment in gold, sensex & ppfs give the same returns?\"]\n",
    "result = model2.predict(example)\n",
    "print(result)"
   ]
  },
  {
   "cell_type": "code",
   "execution_count": 33,
   "id": "3e329f92",
   "metadata": {},
   "outputs": [
    {
     "name": "stdout",
     "output_type": "stream",
     "text": [
      "['positive']\n"
     ]
    }
   ],
   "source": [
    "example = [\"Gold futures edge up after two-session decline.\"]\n",
    "result = model.predict(example)\n",
    "print(result)"
   ]
  },
  {
   "cell_type": "code",
   "execution_count": 34,
   "id": "1ddf9c24",
   "metadata": {},
   "outputs": [
    {
     "name": "stdout",
     "output_type": "stream",
     "text": [
      "['positive']\n"
     ]
    }
   ],
   "source": [
    "example = [\"Gold futures edge up after two-session decline.\"]\n",
    "result = model2.predict(example)\n",
    "print(result)"
   ]
  },
  {
   "cell_type": "code",
   "execution_count": 35,
   "id": "2221313b",
   "metadata": {},
   "outputs": [
    {
     "name": "stdout",
     "output_type": "stream",
     "text": [
      "['neutral']\n"
     ]
    }
   ],
   "source": [
    "example = [\"Gold price expected to remain steady\"]\n",
    "result = model.predict(example)\n",
    "print(result)"
   ]
  },
  {
   "cell_type": "code",
   "execution_count": 36,
   "id": "57a815dd",
   "metadata": {},
   "outputs": [
    {
     "name": "stdout",
     "output_type": "stream",
     "text": [
      "['neutral']\n"
     ]
    }
   ],
   "source": [
    "example = [\"Gold price expected to remain steady\"]\n",
    "result = model2.predict(example)\n",
    "print(result)"
   ]
  },
  {
   "cell_type": "code",
   "execution_count": 37,
   "id": "9d060b88",
   "metadata": {},
   "outputs": [
    {
     "name": "stdout",
     "output_type": "stream",
     "text": [
      "['none']\n"
     ]
    }
   ],
   "source": [
    "example = [\"What is Article 356, which Modi says Indira Gandhi misused 50 times?\"]\n",
    "result = model.predict(example)\n",
    "print(result)"
   ]
  },
  {
   "cell_type": "code",
   "execution_count": 38,
   "id": "ef643f43",
   "metadata": {},
   "outputs": [
    {
     "name": "stdout",
     "output_type": "stream",
     "text": [
      "['negative']\n"
     ]
    }
   ],
   "source": [
    "example = [\"Gold futures down at Rs 30,244\"]\n",
    "result = model2.predict(example)\n",
    "print(result)"
   ]
  },
  {
   "cell_type": "markdown",
   "id": "4645a234",
   "metadata": {},
   "source": [
    "# saving the model"
   ]
  },
  {
   "cell_type": "code",
   "execution_count": 39,
   "id": "fb826e69",
   "metadata": {},
   "outputs": [],
   "source": [
    "#import pickle \n",
    "#pickle.dump(model,open('goldnewsanalysis.pkl','wb'))"
   ]
  },
  {
   "cell_type": "code",
   "execution_count": null,
   "id": "b17773c2",
   "metadata": {},
   "outputs": [],
   "source": []
  }
 ],
 "metadata": {
  "kernelspec": {
   "display_name": "Python 3 (ipykernel)",
   "language": "python",
   "name": "python3"
  },
  "language_info": {
   "codemirror_mode": {
    "name": "ipython",
    "version": 3
   },
   "file_extension": ".py",
   "mimetype": "text/x-python",
   "name": "python",
   "nbconvert_exporter": "python",
   "pygments_lexer": "ipython3",
   "version": "3.9.12"
  }
 },
 "nbformat": 4,
 "nbformat_minor": 5
}
